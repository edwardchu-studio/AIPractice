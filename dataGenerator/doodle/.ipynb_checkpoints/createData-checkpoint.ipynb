{
 "cells": [
  {
   "cell_type": "code",
   "execution_count": 1,
   "metadata": {},
   "outputs": [
    {
     "name": "stderr",
     "output_type": "stream",
     "text": [
      "/Users/edwardchor/anaconda3/envs/py36/lib/python3.6/site-packages/h5py/__init__.py:36: FutureWarning: Conversion of the second argument of issubdtype from `float` to `np.floating` is deprecated. In future, it will be treated as `np.float64 == np.dtype(float).type`.\n",
      "  from ._conv import register_converters as _register_converters\n"
     ]
    },
    {
     "name": "stdout",
     "output_type": "stream",
     "text": [
      "Extracting ../../MNIST_data/train-images-idx3-ubyte.gz\n",
      "Extracting ../../MNIST_data/train-labels-idx1-ubyte.gz\n",
      "Extracting ../../MNIST_data/t10k-images-idx3-ubyte.gz\n",
      "Extracting ../../MNIST_data/t10k-labels-idx1-ubyte.gz\n"
     ]
    }
   ],
   "source": [
    "from tensorflow.examples.tutorials.mnist import input_data\n",
    "import numpy as np\n",
    "import matplotlib.pyplot as plt\n",
    "from IPython.core.interactiveshell import InteractiveShell\n",
    "plt.ion()\n",
    "InteractiveShell.ast_node_interactivity='all'\n",
    "edges=['u','r','d','l']\n",
    "MNIST= input_data.read_data_sets(\"../../MNIST_data/\", one_hot=True, reshape=[])"
   ]
  },
  {
   "cell_type": "code",
   "execution_count": 46,
   "metadata": {
    "collapsed": true
   },
   "outputs": [],
   "source": [
    "import scipy.misc as misc\n",
    "TRAIN_NUM=MNIST.train.num_examples\n",
    "TRAIN_SET=MNIST.train.images,MNIST.train.labels,np.argmax(MNIST.train.labels,axis=1)"
   ]
  },
  {
   "cell_type": "code",
   "execution_count": 27,
   "metadata": {
    "collapsed": true
   },
   "outputs": [],
   "source": [
    "def getRecordInfo(ind):\n",
    "    return TRAIN_SET[0][ind].reshape((28,28)),TRAIN_SET[1][ind],TRAIN_SET[2][ind]"
   ]
  },
  {
   "cell_type": "code",
   "execution_count": 28,
   "metadata": {
    "collapsed": true
   },
   "outputs": [],
   "source": [
    "def fetchPairFromGraph(g):\n",
    "    maxInd=np.unravel_index(a.argmax(), a.shape)\n",
    "    print(maxInd)\n",
    "    num1,num2,pos=maxInd[0],maxInd[1],edges[maxInd[2]]\n",
    "    img1=TRAIN_SET\n",
    "    img2=\n",
    "    plt.subplot(131)\n",
    "    plt.imshow(img1,cmap='gray')\n",
    "    plt.subplot(132)\n",
    "    plt.imshow(img2,cmap='gray')\n",
    "    plt.subplot(133)\n",
    "    newImg={\n",
    "        0:np.concatenate([np.zeros((56,14)),np.concatenate([img2,img1],axis=0),np.zeros((56,14))],axis=1),\n",
    "        1:np.concatenate([np.zeros((14,56)),np.concatenate([img1,img2],axis=1),np.zeros((14,56))],axis=0),\n",
    "        2:np.concatenate([np.zeros((56,14)),np.concatenate([img1,img2],axis=0),np.zeros((56,14))],axis=1),\n",
    "        3:np.concatenate([np.zeros((14,56)),np.concatenate([img2,img1],axis=1),np.zeros((14,56))],axis=0)\n",
    "    }.get(pos)\n",
    "    plt.imshow(newImg,cmap='gray')\n",
    "    print(\"{}--{}-->{}\".format(num1,edges[pos],num2))\n",
    "    return g,newImg"
   ]
  },
  {
   "cell_type": "code",
   "execution_count": 44,
   "metadata": {
    "collapsed": true
   },
   "outputs": [],
   "source": [
    "def fetchRandomPair(shape=(10,10,4)):\n",
    "    g=np.zeros(shape=shape)\n",
    "    ind1,ind2=np.random.randint(0,TRAIN_NUM),np.random.randint(0,TRAIN_NUM)\n",
    "    pos=np.random.randint(0,4)\n",
    "    img1,label1,num1=getRecordInfo(ind1)\n",
    "    img2,label2,num2=getRecordInfo(ind2)\n",
    "    g[num1,num2,pos]=1\n",
    "    plt.subplot(131)\n",
    "    plt.imshow(img1,cmap='gray')\n",
    "    plt.subplot(132)\n",
    "    plt.imshow(img2,cmap='gray')\n",
    "    plt.subplot(133)\n",
    "    newImg={\n",
    "        0:np.concatenate([np.zeros((56,14)),np.concatenate([img2,img1],axis=0),np.zeros((56,14))],axis=1),\n",
    "        1:np.concatenate([np.zeros((14,56)),np.concatenate([img1,img2],axis=1),np.zeros((14,56))],axis=0),\n",
    "        2:np.concatenate([np.zeros((56,14)),np.concatenate([img1,img2],axis=0),np.zeros((56,14))],axis=1),\n",
    "        3:np.concatenate([np.zeros((14,56)),np.concatenate([img2,img1],axis=1),np.zeros((14,56))],axis=0)\n",
    "    }.get(pos)\n",
    "    plt.imshow(newImg,cmap='gray')\n",
    "    print(\"{}--{}-->{}\".format(num1,edges[pos],num2))\n",
    "    return g,newImg"
   ]
  },
  {
   "cell_type": "code",
   "execution_count": 65,
   "metadata": {},
   "outputs": [
    {
     "name": "stdout",
     "output_type": "stream",
     "text": [
      "1--u-->9\n"
     ]
    },
    {
     "data": {
      "text/plain": [
       "(56, 56)"
      ]
     },
     "execution_count": 65,
     "metadata": {},
     "output_type": "execute_result"
    },
    {
     "data": {
      "image/png": "[encoded data removed]",
      "text/plain": [
       "<Figure size 432x288 with 3 Axes>"
      ]
     },
     "metadata": {},
     "output_type": "display_data"
    }
   ],
   "source": [
    "g,img=fetchRandomPair()\n",
    "img.shape"
   ]
  },
  {
   "cell_type": "code",
   "execution_count": null,
   "metadata": {
    "collapsed": true
   },
   "outputs": [],
   "source": [
    "def createDataSet(num=10000):\n",
    "    G=[]\n",
    "    I=[]\n",
    "    for i in range(num):\n",
    "        g,img=fetchRandomPair()\n",
    "        G.append(g)\n",
    "        I.append(img)\n",
    "        \n",
    "    \n",
    "    I=np.array(I).reshape((num,56,56,1))\n",
    "    G=np.array(G)\n",
    "    np.save('G'+str(num),G)\n",
    "    np.save('I'+str(num),I)\n",
    "    \n",
    "    "
   ]
  }
 ],
 "metadata": {
  "kernelspec": {
   "display_name": "Python 3",
   "language": "python",
   "name": "python3"
  },
  "language_info": {
   "codemirror_mode": {
    "name": "ipython",
    "version": 3
   },
   "file_extension": ".py",
   "mimetype": "text/x-python",
   "name": "python",
   "nbconvert_exporter": "python",
   "pygments_lexer": "ipython3",
   "version": "3.6.3"
  },
  "latex_envs": {
   "LaTeX_envs_menu_present": true,
   "autoclose": false,
   "autocomplete": true,
   "bibliofile": "biblio.bib",
   "cite_by": "apalike",
   "current_citInitial": 1,
   "eqLabelWithNumbers": true,
   "eqNumInitial": 1,
   "hotkeys": {
    "equation": "Ctrl-E",
    "itemize": "Ctrl-I"
   },
   "labels_anchors": false,
   "latex_user_defs": false,
   "report_style_numbering": false,
   "user_envs_cfg": false
  },
  "varInspector": {
   "cols": {
    "lenName": 16,
    "lenType": 16,
    "lenVar": 40
   },
   "kernels_config": {
    "python": {
     "delete_cmd_postfix": "",
     "delete_cmd_prefix": "del ",
     "library": "var_list.py",
     "varRefreshCmd": "print(var_dic_list())"
    },
    "r": {
     "delete_cmd_postfix": ") ",
     "delete_cmd_prefix": "rm(",
     "library": "var_list.r",
     "varRefreshCmd": "cat(var_dic_list()) "
    }
   },
   "types_to_exclude": [
    "module",
    "function",
    "builtin_function_or_method",
    "instance",
    "_Feature"
   ],
   "window_display": true
  }
 },
 "nbformat": 4,
 "nbformat_minor": 2
}
