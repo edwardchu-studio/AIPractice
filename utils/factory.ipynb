{
 "cells": [
  {
   "cell_type": "code",
   "execution_count": 25,
   "metadata": {},
   "outputs": [],
   "source": [
    "from tensorflow.examples.tutorials.mnist import input_data\n",
    "import numpy as np\n",
    "import matplotlib.pyplot as plt\n",
    "plt.ion()\n",
    "from IPython.core.interactiveshell import InteractiveShell\n",
    "InteractiveShell.ast_node_interactivity='all'\n",
    "import torch\n",
    "import torchvision\n",
    "import torchvision.transforms as transforms\n",
    "import torch.nn as nn\n",
    "import torch.nn.functional as F\n",
    "import torch.optim as optim\n",
    "from torch.autograd import Variable\n",
    "import time\n",
    "from graphviz import Digraph\n",
    "import torchvision\n",
    "\n",
    "from tensorflow.examples.tutorials.mnist import input_data\n"
   ]
  },
  {
   "cell_type": "code",
   "execution_count": 26,
   "metadata": {
    "collapsed": true
   },
   "outputs": [],
   "source": [
    "\n",
    "class doodleGenerator:\n",
    "    def __init__(self):\n",
    "        self.edges=['u','r','d','l']\n",
    "        self.MNIST= input_data.read_data_sets(\"../MNIST_data/\", one_hot=True, reshape=[])\n",
    "        self.MNIST_TRAIN_NUM = self.MNIST.train.num_examples\n",
    "        self.MNIST_TRAIN_SET = self.MNIST.train.images, self.MNIST.train.labels, np.argmax(self.MNIST.train.labels, axis=1)\n",
    "        \n",
    "    def getRecordInfo(self,ind):\n",
    "        return self.MNIST_TRAIN_SET[0][ind].reshape((28, 28)), self.MNIST_TRAIN_SET[1][ind], self.MNIST_TRAIN_SET[2][ind]\n",
    "\n",
    "    def fetchRandomPair(self,shape=(10,10,4)):\n",
    "        g = np.zeros(shape=shape)\n",
    "        ind1, ind2 = np.random.randint(0, self.MNIST_TRAIN_NUM), np.random.randint(0, self.MNIST_TRAIN_NUM)\n",
    "        pos = np.random.randint(0, 4)\n",
    "        img1, label1, num1 = self.getRecordInfo(ind1)\n",
    "        img2, label2, num2 = self.getRecordInfo(ind2)\n",
    "        g[num1, num2, pos] = 1\n",
    "        plt.subplot(131)\n",
    "        plt.imshow(img1, cmap='gray')\n",
    "        plt.subplot(132)\n",
    "        plt.imshow(img2, cmap='gray')\n",
    "        plt.subplot(133)\n",
    "        newImg = {\n",
    "            0: np.concatenate([np.zeros((56, 14)), np.concatenate([img2, img1], axis=0), np.zeros((56, 14))], axis=1),\n",
    "            1: np.concatenate([np.zeros((14, 56)), np.concatenate([img1, img2], axis=1), np.zeros((14, 56))], axis=0),\n",
    "            2: np.concatenate([np.zeros((56, 14)), np.concatenate([img1, img2], axis=0), np.zeros((56, 14))], axis=1),\n",
    "            3: np.concatenate([np.zeros((14, 56)), np.concatenate([img2, img1], axis=1), np.zeros((14, 56))], axis=0)\n",
    "        }.get(pos)\n",
    "        plt.imshow(newImg, cmap='gray')\n",
    "#         print(\"{}--{}-->{}\".format(num1, self.edges[pos], num2))\n",
    "        return g, newImg\n",
    "\n",
    "\n",
    "    def createDataSet(self,num=100000):\n",
    "        G = []\n",
    "        I = []\n",
    "        for i in range(num):\n",
    "            g, img = self.fetchRandomPair()\n",
    "            G.append(g)\n",
    "            I.append(img)\n",
    "            if i%10000==0:\n",
    "                print(\"{}/100000\".format(i))\n",
    "\n",
    "        I = np.array(I).reshape((num, 56, 56, 1))\n",
    "        G = np.array(G)\n",
    "        np.save('G' + str(num), G)\n",
    "        np.save('I' + str(num), I)\n",
    "        self.TRAIN_SET=[G,I]\n",
    "        return G, I"
   ]
  },
  {
   "cell_type": "code",
   "execution_count": 7,
   "metadata": {},
   "outputs": [
    {
     "name": "stdout",
     "output_type": "stream",
     "text": [
      "Extracting ../MNIST_data/train-images-idx3-ubyte.gz\n",
      "Extracting ../MNIST_data/train-labels-idx1-ubyte.gz\n",
      "Extracting ../MNIST_data/t10k-images-idx3-ubyte.gz\n",
      "Extracting ../MNIST_data/t10k-labels-idx1-ubyte.gz\n"
     ]
    },
    {
     "name": "stderr",
     "output_type": "stream",
     "text": [
      "/Users/edwardchor/anaconda3/envs/py36/lib/python3.6/site-packages/matplotlib/cbook/deprecation.py:107: MatplotlibDeprecationWarning: Adding an axes using the same arguments as a previous axes currently reuses the earlier instance.  In a future version, a new instance will always be created and returned.  Meanwhile, this warning can be suppressed, and the future behavior ensured, by passing a unique label to each axes instance.\n",
      "  warnings.warn(message, mplDeprecation, stacklevel=1)\n"
     ]
    },
    {
     "name": "stdout",
     "output_type": "stream",
     "text": [
      "0/100000\n"
     ]
    }
   ],
   "source": [
    "dg=doodleGenerator()\n",
    "data=dg.createDataSet(1000)"
   ]
  },
  {
   "cell_type": "code",
   "execution_count": 105,
   "metadata": {},
   "outputs": [],
   "source": [
    "class Generator(nn.Module):\n",
    "    def __init__(self):\n",
    "        super(Generator,self).__init__()\n",
    "        self.g_conv1=nn.Conv2d(4,8,3,padding=1)\n",
    "        self.z_conv1=nn.Conv2d(16,12,3,padding=1)\n",
    "        self.z_pool1=nn.MaxPool2d(2,2)\n",
    "        self.z_conv2=nn.Conv2d(12,8,7,stride=1)\n",
    "        self.m_fc=nn.Linear(10*10*16,56*56*1)\n",
    "\n",
    "    def forward(self, g,z):\n",
    "        print(g.shape,z.shape)\n",
    "        gc1 = self.g_conv1(g)\n",
    "\n",
    "        gc1=F.relu(gc1)\n",
    "        print('gc1.shape:',gc1.shape)\n",
    "        zc1 = self.z_pool1(self.z_conv1(z))\n",
    "        zc1=F.relu(zc1)\n",
    "        print('zc1.shape',zc1.shape)        \n",
    "        zc2 = self.z_conv2(zc1)\n",
    "        zc2=F.relu(zc2)\n",
    "        print('zc2.shape',zc2.shape)        \n",
    "        merged = torch.cat([gc1, zc2], 1)\n",
    "        print('merged.shape',merged.shape)\n",
    "        merged_r=merged.view(-1,16*10*10)\n",
    "        o = self.m_fc(merged_r)\n",
    "        print('output.shape',o.shape)\n",
    "        return o.view((56, 56))\n",
    "\n",
    "ind=np.random.randint(0,1001)\n",
    "g,img=data[0][ind],data[1][ind]\n",
    "g=g.reshape(1,4,10,10)\n",
    "img=img.reshape(1,1,56,56)\n",
    "G=Generator()\n",
    "z=np.random.randn(1,16,32,32)\n",
    "g,img,z=Variable(torch.Tensor(g)),Variable(torch.Tensor(img)),Variable(torch.Tensor(z))"
   ]
  },
  {
   "cell_type": "code",
   "execution_count": 109,
   "metadata": {},
   "outputs": [
    {
     "name": "stdout",
     "output_type": "stream",
     "text": [
      "torch.Size([1, 4, 10, 10]) torch.Size([1, 16, 32, 32])\n",
      "gc1.shape: torch.Size([1, 8, 10, 10])\n",
      "zc1.shape torch.Size([1, 12, 16, 16])\n",
      "zc2.shape torch.Size([1, 8, 10, 10])\n",
      "merged.shape torch.Size([1, 16, 10, 10])\n",
      "output.shape torch.Size([1, 3136])\n"
     ]
    },
    {
     "data": {
      "text/plain": [
       "<matplotlib.image.AxesImage at 0x1ce0bbba58>"
      ]
     },
     "execution_count": 109,
     "metadata": {},
     "output_type": "execute_result"
    },
    {
     "data": {
      "image/png": "[encoded data removed]",
      "text/plain": [
       "<Figure size 432x288 with 1 Axes>"
      ]
     },
     "metadata": {},
     "output_type": "display_data"
    }
   ],
   "source": [
    "x=G(g,z)\n",
    "plt.imshow(np.array(x.data),cmap='gray')"
   ]
  },
  {
   "cell_type": "code",
   "execution_count": 124,
   "metadata": {},
   "outputs": [
    {
     "name": "stdout",
     "output_type": "stream",
     "text": [
      "gc1.shape: torch.Size([1, 8, 10, 10])\n",
      "xc1.shape: torch.Size([1, 16, 54, 54])\n",
      "xp1.shape: torch.Size([1, 16, 27, 27])\n",
      "xc2.shape: torch.Size([1, 64, 20, 20])\n",
      "xp2.shape: torch.Size([1, 64, 10, 10])\n",
      "merged.shape: torch.Size([1, 72, 10, 10])\n",
      "mc.shape: torch.Size([1, 128, 8, 8])\n",
      "m_fc1.shape torch.Size([1, 2048])\n",
      "m_fc2.shape torch.Size([1, 256])\n",
      "m_fc3.shape torch.Size([1, 1])\n",
      "gc1.shape: torch.Size([1, 8, 10, 10])\n",
      "xc1.shape: torch.Size([1, 16, 54, 54])\n",
      "xp1.shape: torch.Size([1, 16, 27, 27])\n",
      "xc2.shape: torch.Size([1, 64, 20, 20])\n",
      "xp2.shape: torch.Size([1, 64, 10, 10])\n",
      "merged.shape: torch.Size([1, 72, 10, 10])\n",
      "mc.shape: torch.Size([1, 128, 8, 8])\n",
      "m_fc1.shape torch.Size([1, 2048])\n",
      "m_fc2.shape torch.Size([1, 256])\n",
      "m_fc3.shape torch.Size([1, 1])\n"
     ]
    }
   ],
   "source": [
    "class Discriminator(nn.Module):\n",
    "    def __init__(self):\n",
    "        super(Discriminator,self).__init__()\n",
    "        self.g_conv1 = nn.Conv2d(4, 8, 3, padding=1)\n",
    "        self.x_conv1 = nn.Conv2d(1, 16, 3, padding=0)\n",
    "        self.x_pool1 = nn.MaxPool2d(2, 2)\n",
    "        self.x_conv2 = nn.Conv2d(16, 64, 8)\n",
    "\n",
    "        self.m_conv = nn.Conv2d(72, 128, 3)\n",
    "        self.m_fc1 = nn.Linear(1 *128*8*8, 2048)\n",
    "        self.m_fc2 = nn.Linear(2048, 256)\n",
    "        self.m_fc3 = nn.Linear(256, 1)\n",
    "\n",
    "    def forward(self, g,x):\n",
    "        g=g.view(1,4,10,10)\n",
    "        x=x.view(1,1,56,56)\n",
    "        gc1 = self.g_conv1(g)\n",
    "        gc1=F.relu(gc1)\n",
    "        print('gc1.shape:',gc1.shape)\n",
    "        xc1=self.x_conv1(x)\n",
    "        print('xc1.shape:',xc1.shape)\n",
    "        xp1=F.relu(self.x_pool1(xc1))\n",
    "        print('xp1.shape:',xp1.shape)\n",
    "        xc2=self.x_conv2(xp1)\n",
    "        print('xc2.shape:',xc2.shape)\n",
    "        xp2=F.relu(self.x_pool1(xc2))\n",
    "        print('xp2.shape:',xp2.shape)\n",
    "        merged = torch.cat([xp2, gc1], 1)\n",
    "        print('merged.shape:',merged.shape)\n",
    "        mc = self.m_conv(merged)\n",
    "        print('mc.shape:',mc.shape)\n",
    "        mc=mc.view(-1,128*8*8)\n",
    "        m_fc1=self.m_fc1(mc)\n",
    "        print('m_fc1.shape',m_fc1.shape)\n",
    "        m_fc2=self.m_fc2(m_fc1)\n",
    "        print('m_fc2.shape',m_fc2.shape)\n",
    "        m_fc3 = self.m_fc3(m_fc2)\n",
    "        print('m_fc3.shape',m_fc3.shape)\n",
    "        return torch.sigmoid(m_fc3)\n",
    "D=Discriminator()\n",
    "d_fake=D(g,x)\n",
    "d_real=D(g,img)"
   ]
  },
  {
   "cell_type": "code",
   "execution_count": 126,
   "metadata": {},
   "outputs": [
    {
     "data": {
      "text/plain": [
       "Variable containing:\n",
       " 0.4966\n",
       "[torch.FloatTensor of size (1,1)]"
      ]
     },
     "execution_count": 126,
     "metadata": {},
     "output_type": "execute_result"
    },
    {
     "data": {
      "text/plain": [
       "Variable containing:\n",
       " 0.4965\n",
       "[torch.FloatTensor of size (1,1)]"
      ]
     },
     "execution_count": 126,
     "metadata": {},
     "output_type": "execute_result"
    }
   ],
   "source": [
    "d_fake\n",
    "d_real"
   ]
  },
  {
   "cell_type": "code",
   "execution_count": 66,
   "metadata": {
    "collapsed": true
   },
   "outputs": [],
   "source": [
    "class cDCGAN(nn.Module):\n",
    "    def __init__(self):\n",
    "        super(cDCGAN, self).__init__()\n",
    "        self.G=Generator()\n",
    "        self.D=Discriminator()\n",
    "        self.G_LOSS=nn.CrossEntropyLoss()\n",
    "        self.rD_LOSS=nn.CrossEntropyLoss()\n",
    "        self.fD_LOSS=nn.CrossEntropyLoss()\n",
    "\n",
    "\n",
    "    def setTrainParas(self,batch_num,lr,iters,epoch):\n",
    "        self.lr,self.batch_num,self.iters,self.epoch=lr,batch_num,iters,epoch\n",
    "\n",
    "    def feedTrainData(self,GI,tGI):\n",
    "        self.data={\n",
    "            'train':GI,\n",
    "            'test':tGI\n",
    "        }\n",
    "\n",
    "    def trainNetwork(self):\n",
    "        G_optimizer=optim.SGD(self.G.parameters(),lr=self.lr,momentum=0.9)\n",
    "        D_optimizer=optim.SGD(self.D.parameters(),lr=self.lr,momentum=0.9)\n",
    "\n",
    "        for  e in range(self.epoch):\n",
    "            G_losses, D_losses = [], []\n",
    "            eporch_starttime=time.time()\n",
    "            print('Epoch {}/{}'.format(e+1,self.epoch))\n",
    "            print(\"-\"*10)\n",
    "            for phase in ['train','test']:\n",
    "                print('Current Phase:{}'.format(phase))\n",
    "\n",
    "                if phase=='train':\n",
    "                    G_optimizer.step()\n",
    "                    D_optimizer.step()\n",
    "                    self.D.train(True)\n",
    "                    self.G.train(True)\n",
    "                else:\n",
    "                    self.D.train(False)\n",
    "                    self.G.train(False)\n",
    "\n",
    "                for i, data in enumerate(self.data[phase],0):\n",
    "                    z=torch.randn((32,32,16))\n",
    "\n",
    "                    g,img=data\n",
    "                    G_optimizer.zero_grad()\n",
    "                    D_optimizer.zero_grad()\n",
    "                    g,img,z=Variable(g),Variable(img),Variable(z)\n",
    "\n",
    "                    x=self.G(g,z)\n",
    "                    r_d_out=self.D(g,img)\n",
    "                    f_d_out=self.D(g,x)\n",
    "                    real_d_loss=self.rD_LOSS(r_d_out,torch.ones((1)))\n",
    "                    fake_d_loss=self.fD_LOSS(f_d_out,torch.zeros((1)))\n",
    "                    d_loss=real_d_loss+fake_d_loss\n",
    "                    g_loss=self.G_LOSS(f_d_out,torch.ones((1)))\n",
    "\n",
    "                    print(\"G_loss: {}, D_loss:{}\".format(g_loss,d_loss))\n",
    "                    G_losses.append(g_loss)\n",
    "                    D_losses.append(d_loss)\n",
    "                    if phase=='train':\n",
    "                        g_loss.backward()\n",
    "                        G_optimizer.step()\n",
    "                        d_loss.backward()\n",
    "                        D_optimizer.step()"
   ]
  },
  {
   "cell_type": "code",
   "execution_count": null,
   "metadata": {
    "collapsed": true
   },
   "outputs": [],
   "source": []
  }
 ],
 "metadata": {
  "kernelspec": {
   "display_name": "Python 3",
   "language": "python",
   "name": "python3"
  },
  "language_info": {
   "codemirror_mode": {
    "name": "ipython",
    "version": 3
   },
   "file_extension": ".py",
   "mimetype": "text/x-python",
   "name": "python",
   "nbconvert_exporter": "python",
   "pygments_lexer": "ipython3",
   "version": "3.6.3"
  },
  "latex_envs": {
   "LaTeX_envs_menu_present": true,
   "autoclose": false,
   "autocomplete": true,
   "bibliofile": "biblio.bib",
   "cite_by": "apalike",
   "current_citInitial": 1,
   "eqLabelWithNumbers": true,
   "eqNumInitial": 1,
   "hotkeys": {
    "equation": "Ctrl-E",
    "itemize": "Ctrl-I"
   },
   "labels_anchors": false,
   "latex_user_defs": false,
   "report_style_numbering": false,
   "user_envs_cfg": false
  },
  "varInspector": {
   "cols": {
    "lenName": 16,
    "lenType": 16,
    "lenVar": 40
   },
   "kernels_config": {
    "python": {
     "delete_cmd_postfix": "",
     "delete_cmd_prefix": "del ",
     "library": "var_list.py",
     "varRefreshCmd": "print(var_dic_list())"
    },
    "r": {
     "delete_cmd_postfix": ") ",
     "delete_cmd_prefix": "rm(",
     "library": "var_list.r",
     "varRefreshCmd": "cat(var_dic_list()) "
    }
   },
   "types_to_exclude": [
    "module",
    "function",
    "builtin_function_or_method",
    "instance",
    "_Feature"
   ],
   "window_display": true
  }
 },
 "nbformat": 4,
 "nbformat_minor": 2
}
